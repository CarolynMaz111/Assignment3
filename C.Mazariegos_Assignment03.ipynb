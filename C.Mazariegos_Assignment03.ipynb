{
 "cells": [
  {
   "cell_type": "markdown",
   "metadata": {},
   "source": [
    "## Assignment 3 - Python Loops and Control"
   ]
  },
  {
   "cell_type": "markdown",
   "metadata": {},
   "source": [
    "#### In case you did not complete the previous assignment, here is a starter for the Rock Paper Scissors game"
   ]
  },
  {
   "cell_type": "code",
   "execution_count": null,
   "metadata": {},
   "outputs": [],
   "source": [
    "import sys\n",
    "\n",
    "# Get User input\n",
    "player1 = input('Enter Value for Player 1: ')\n",
    "if (player1 != 'rock' and player1 != 'paper' and player1 != 'scissors'):\n",
    "    print('Player1 input incorrect')\n",
    "    sys.exit('Input Error')\n",
    "    \n",
    "player2 = input('Enter Value for Player 2: ')\n",
    "if (player2 != 'rock' and player2 != 'paper' and player2 != 'scissors'):\n",
    "    print('Player2 input incorrect')\n",
    "    sys.exit('Input Error')\n",
    "     \n",
    "\n",
    "if player1 == player2:\n",
    "    print ('Players Tie')\n",
    "elif (player1 == 'rock' and player2 == 'scissors') \\\n",
    "or (player1 == 'paper' and player2 == 'rock') \\\n",
    "or (player1 == 'scissors' and player2 == 'paper'):\n",
    "    print('Player 1 Wins')\n",
    "else:\n",
    "    print('player 2 wins')\n"
   ]
  },
  {
   "cell_type": "markdown",
   "metadata": {},
   "source": [
    "### Task1 - Rewrite the game logic to do the following.  \n",
    "#### You can use my code as a starter or you can use your own from the last assignment\n",
    "\n",
    "1. Convert the user input strings to lower case so that you only have to check lower case in your test.  Hint: look at the <B>lower()</B> function in Python.\n",
    "2. Create a loop for each input that does the following:\n",
    "    - Check the value of the input\n",
    "    - If the value is not correct, alert the user\n",
    "    - Give the user a total of three chances to get it right\n",
    "    - If they don't get it right in three tries, use <B>sys.exit</B> to exit the code and give them a message that they exceeded their allowable number of tries"
   ]
  },
  {
   "cell_type": "code",
   "execution_count": 3,
   "metadata": {},
   "outputs": [
    {
     "name": "stdout",
     "output_type": "stream",
     "text": [
      "Enter Value for {player}: rock\n",
      "Enter Value for {player}: paper\n",
      "Player 2 Wins\n"
     ]
    }
   ],
   "source": [
    "import sys\n",
    "\n",
    "def check_input(player):\n",
    "    correct_inputs = ['rock', 'paper', 'scissors']\n",
    "    attempts = 3\n",
    "    while attempts > 0:\n",
    "        user_input = input('Enter Value for {player}: ').lower()\n",
    "        if user_input in correct_inputs:\n",
    "            return user_input\n",
    "        else:\n",
    "            print('Invalid input. Please enter \"rock\", \"paper\", or \"scissors\".')\n",
    "            attempts -= 1\n",
    "    print('Exceeded maximum number of tries for {player}. Exiting...')\n",
    "    sys.exit('Input Error')\n",
    "\n",
    "player1 = check_input('Player 1')\n",
    "player2 = check_input('Player 2')\n",
    "\n",
    "if player1 == player2:\n",
    "    print('Players Tie')\n",
    "elif (player1 == 'rock' and player2 == 'scissors') \\\n",
    "or (player1 == 'paper' and player2 == 'rock') \\\n",
    "or (player1 == 'scissors' and player2 == 'paper'):\n",
    "    print('Player 1 Wins')\n",
    "else:\n",
    "    print('Player 2 Wins')"
   ]
  },
  {
   "cell_type": "markdown",
   "metadata": {},
   "source": [
    "### Task 2 - FizzBuzz\n",
    "Write a program that prints the numbers from 1 to 100. But for multiples of three print “Fizz” instead of the number and for the multiples of five print “Buzz”.\n",
    "\n",
    "Hints:\n",
    "- You can use a <b>for</b> loop with a range to simplify the iteration\n",
    "- Use the modulo division operator (%) to find the remainder of a division calculation\n",
    "\n",
    "Note: This is actually a common exercise used in job interviews for entry-level programmers."
   ]
  },
  {
   "cell_type": "code",
   "execution_count": 8,
   "metadata": {},
   "outputs": [
    {
     "name": "stdout",
     "output_type": "stream",
     "text": [
      "1\n",
      "2\n",
      "Fizz\n",
      "4\n",
      "Buzz\n",
      "Fizz\n",
      "7\n",
      "8\n",
      "Fizz\n",
      "Buzz\n",
      "11\n",
      "Fizz\n",
      "13\n",
      "14\n",
      "Fizz\n",
      "16\n",
      "17\n",
      "Fizz\n",
      "19\n",
      "Buzz\n",
      "Fizz\n",
      "22\n",
      "23\n",
      "Fizz\n",
      "Buzz\n",
      "26\n",
      "Fizz\n",
      "28\n",
      "29\n",
      "Fizz\n",
      "31\n",
      "32\n",
      "Fizz\n",
      "34\n",
      "Buzz\n",
      "Fizz\n",
      "37\n",
      "38\n",
      "Fizz\n",
      "Buzz\n",
      "41\n",
      "Fizz\n",
      "43\n",
      "44\n",
      "Fizz\n",
      "46\n",
      "47\n",
      "Fizz\n",
      "49\n",
      "Buzz\n",
      "Fizz\n",
      "52\n",
      "53\n",
      "Fizz\n",
      "Buzz\n",
      "56\n",
      "Fizz\n",
      "58\n",
      "59\n",
      "Fizz\n",
      "61\n",
      "62\n",
      "Fizz\n",
      "64\n",
      "Buzz\n",
      "Fizz\n",
      "67\n",
      "68\n",
      "Fizz\n",
      "Buzz\n",
      "71\n",
      "Fizz\n",
      "73\n",
      "74\n",
      "Fizz\n",
      "76\n",
      "77\n",
      "Fizz\n",
      "79\n",
      "Buzz\n",
      "Fizz\n",
      "82\n",
      "83\n",
      "Fizz\n",
      "Buzz\n",
      "86\n",
      "Fizz\n",
      "88\n",
      "89\n",
      "Fizz\n",
      "91\n",
      "92\n",
      "Fizz\n",
      "94\n",
      "Buzz\n",
      "Fizz\n",
      "97\n",
      "98\n",
      "Fizz\n",
      "Buzz\n"
     ]
    }
   ],
   "source": [
    "for number in range(1, 101):\n",
    "    if number % 3 != 0 and number % 5 != 0:\n",
    "        print(number)\n",
    "    elif number % 3 == 0:\n",
    "        print(\"Fizz\")\n",
    "    elif number % 5 == 0:\n",
    "        print(\"Buzz\")\n",
    "    "
   ]
  }
 ],
 "metadata": {
  "kernelspec": {
   "display_name": "Python 3 (ipykernel)",
   "language": "python",
   "name": "python3"
  },
  "language_info": {
   "codemirror_mode": {
    "name": "ipython",
    "version": 3
   },
   "file_extension": ".py",
   "mimetype": "text/x-python",
   "name": "python",
   "nbconvert_exporter": "python",
   "pygments_lexer": "ipython3",
   "version": "3.11.5"
  }
 },
 "nbformat": 4,
 "nbformat_minor": 2
}
