{
 "cells": [
  {
   "cell_type": "markdown",
   "id": "9bdcc172",
   "metadata": {},
   "source": [
    "## Task 1"
   ]
  },
  {
   "cell_type": "code",
   "execution_count": 15,
   "id": "b018019d",
   "metadata": {},
   "outputs": [],
   "source": [
    "# Name the function RPSValidate and get input from user\n",
    "def RPSValidate(input_value):\n",
    "    \n",
    "    # Check if value of the argument is rock, paper, scissors and is lowercase\n",
    "    if input_value.lower() in ('rock', 'paper', 'scissors'):\n",
    "        return input_value.lower()\n",
    "   \n",
    "    # If validation doesn't pass, return the string 'input error'\n",
    "    else:\n",
    "        return 'input error'"
   ]
  },
  {
   "cell_type": "markdown",
   "id": "566778f6",
   "metadata": {},
   "source": [
    "## Task 2"
   ]
  },
  {
   "cell_type": "code",
   "execution_count": 16,
   "id": "0cfde1df",
   "metadata": {},
   "outputs": [],
   "source": [
    "# Name the function RPSExecute with arguments player1 and player2\n",
    "def RPSExecute(player1, player2):\n",
    "    \n",
    "    # Return 0 if it's a tie\n",
    "    if player1 == player2:\n",
    "        return 0\n",
    "    \n",
    "    # Return 1 if the winner is player 1 \n",
    "    elif (player1 == 'rock' and player2 == 'scissors') \\\n",
    "            or (player1 == 'paper' and player2 == 'rock') \\\n",
    "            or (player1 == 'scissors' and player2 == 'paper'):\n",
    "        return 1\n",
    "    \n",
    "    # Return 2 if the winner is player 2\n",
    "    else:\n",
    "        return 2"
   ]
  },
  {
   "cell_type": "markdown",
   "id": "8731f3c4",
   "metadata": {},
   "source": [
    "## Task 3"
   ]
  },
  {
   "cell_type": "code",
   "execution_count": 17,
   "id": "a37dd8f0",
   "metadata": {},
   "outputs": [
    {
     "name": "stdout",
     "output_type": "stream",
     "text": [
      "Enter value for Player 1: rock\n",
      "Enter value for Player 2: paper\n",
      "The Winner is Player 2\n"
     ]
    }
   ],
   "source": [
    "import sys\n",
    "\n",
    "def RPSValidate(input_value):\n",
    "    if input_value.lower() in ('rock', 'paper', 'scissors'):\n",
    "        return input_value.lower()\n",
    "    else:\n",
    "        return 'input error'\n",
    "\n",
    "def get_player_input(player_number):\n",
    "    \n",
    "    #Make sure user only gets 3 attempts \n",
    "    max_attempts = 3\n",
    "    for _ in range(max_attempts):\n",
    "        player_input = input(f'Enter value for Player {player_number}: ')\n",
    "        validated_input = RPSValidate(player_input)\n",
    "        if validated_input != 'input error':\n",
    "            return validated_input\n",
    "        else:\n",
    "            print(f'Player {player_number} entry invalid. Please try again.')\n",
    "    else:\n",
    "        print(f'Player {player_number} - No more tries remaining. Exiting application.')\n",
    "        sys.exit('Input Error')\n",
    "\n",
    "def RPSExecute(player1, player2):\n",
    "    if player1 == player2:\n",
    "        return 0\n",
    "    elif (player1 == 'rock' and player2 == 'scissors') \\\n",
    "            or (player1 == 'paper' and player2 == 'rock') \\\n",
    "            or (player1 == 'scissors' and player2 == 'paper'):\n",
    "        return 1\n",
    "    else:\n",
    "        return 2\n",
    "\n",
    "# Get input for Player 1\n",
    "player1 = get_player_input(1)\n",
    "\n",
    "# Get input for Player 2\n",
    "player2 = get_player_input(2)\n",
    "\n",
    "# Execute the game\n",
    "result = RPSExecute(player1, player2)\n",
    "\n",
    "# Output the result\n",
    "if result == 0:\n",
    "    print('The Game is a Tie')\n",
    "elif result == 1:\n",
    "    print('The Winner is Player 1')\n",
    "else:\n",
    "    print('The Winner is Player 2')"
   ]
  },
  {
   "cell_type": "code",
   "execution_count": null,
   "id": "8fef2dba",
   "metadata": {},
   "outputs": [],
   "source": []
  }
 ],
 "metadata": {
  "kernelspec": {
   "display_name": "Python 3 (ipykernel)",
   "language": "python",
   "name": "python3"
  },
  "language_info": {
   "codemirror_mode": {
    "name": "ipython",
    "version": 3
   },
   "file_extension": ".py",
   "mimetype": "text/x-python",
   "name": "python",
   "nbconvert_exporter": "python",
   "pygments_lexer": "ipython3",
   "version": "3.11.5"
  }
 },
 "nbformat": 4,
 "nbformat_minor": 5
}
